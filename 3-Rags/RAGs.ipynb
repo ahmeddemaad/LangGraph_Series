{
 "cells": [
  {
   "cell_type": "markdown",
   "metadata": {},
   "source": [
    "<img src=\"header.png\" alt=\"Logo\" >\n"
   ]
  },
  {
   "cell_type": "markdown",
   "metadata": {},
   "source": [
    "# **Lets Build a more complex Project Step by step**\n"
   ]
  },
  {
   "cell_type": "markdown",
   "metadata": {},
   "source": [
    "\n",
    "\n",
    "<div id=\"introduction\" style=\"font-family: Arial, sans-serif; text-align: center; padding: 20px; background: linear-gradient(90deg, #6a5acd, #00bfff); color: white; position: relative; margin-bottom: 10px;\">\n",
    "    <h2 style=\"margin: 0;\">Part 1 : Bulding a simple ChatBot as we did before (Without memory)</h2>\n",
    "\n",
    "</div>"
   ]
  },
  {
   "cell_type": "markdown",
   "metadata": {},
   "source": [
    "\n",
    "<div id=\"step1\" style=\"font-family: Arial, sans-serif; padding: 15px; background: linear-gradient(90deg, #f0e68c, #ffd700); color: #333; border: 2px solid #ffa500; border-radius: 8px; margin: 10px 0;\">\n",
    "    <h3 style=\"margin: 0;\">Step 1 : Bulding Graph</h3>\n",
    "</div>\n"
   ]
  },
  {
   "cell_type": "code",
   "execution_count": 2,
   "metadata": {},
   "outputs": [],
   "source": [
    "import getpass\n",
    "import os\n",
    "\n",
    "def _set_env(var: str):\n",
    "    \"we use this function to set the enviromental variables dynamically\"\n",
    "    if not os.environ.get(var):\n",
    "        os.environ[var] = getpass.getpass(f\"{var}: \")\n"
   ]
  },
  {
   "cell_type": "code",
   "execution_count": 9,
   "metadata": {},
   "outputs": [],
   "source": [
    "_set_env(\"OpenAi_Key\")"
   ]
  },
  {
   "cell_type": "code",
   "execution_count": 10,
   "metadata": {},
   "outputs": [],
   "source": [
    "from langchain_openai import ChatOpenAI\n",
    "from langchain_core.messages import HumanMessage\n",
    "\n",
    "# Step 1 : Define Model we are going to use from openAi\n",
    "llm = ChatOpenAI(model=\"gpt-4o\", api_key=os.environ.get(\"OpenAi_Key\"))"
   ]
  },
  {
   "cell_type": "code",
   "execution_count": 9,
   "metadata": {},
   "outputs": [],
   "source": [
    "from typing import Annotated\n",
    "from typing_extensions import TypedDict\n",
    "from langgraph.graph import StateGraph, START, END\n",
    "# this is a method that can be used instead of using the operator.add (to share data among other nodes not other calls to the model)\n",
    "from langgraph.graph.message import add_messages\n",
    "\n",
    "# Step 1 : Define State Class Schema\n",
    "class State(TypedDict):\n",
    "    # in the annotation defines how this state key should be updated\n",
    "    # (in this case, it appends messages to the list, rather than overwriting them)\n",
    "    messages: Annotated[list, add_messages]\n",
    " \n",
    "# Step 2 : Building State Graph   \n",
    "builder = StateGraph(State) \n",
    "\n",
    "# Step 3 : Define Function (which is going to be mapped to a node)\n",
    "def chatbot(state: State):\n",
    "    # its simply going to return llm response\n",
    "    return {\"messages\": [llm.invoke(state[\"messages\"])]}\n",
    "\n",
    "# Step 4 : Map nodes\n",
    "builder.add_node(\"chatbot\", chatbot)\n",
    "\n",
    "# Step 5 : Draw graph\n",
    "builder.add_edge(START, \"chatbot\")\n",
    "\n",
    "builder.add_edge(\"chatbot\", END)\n",
    "\n",
    "# Step 6 : Compile graph\n",
    "graph = builder.compile()   "
   ]
  },
  {
   "cell_type": "markdown",
   "metadata": {},
   "source": [
    "\n",
    "\n",
    "<div id=\"step1\" style=\"font-family: Arial, sans-serif; padding: 15px; background: linear-gradient(90deg, #f0e68c, #ffd700); color: #333; border: 2px solid #ffa500; border-radius: 8px; margin: 10px 0;\">\n",
    "    <h3 style=\"margin: 0;\">Step 2 : Testing Manually</h3>\n",
    "</div>"
   ]
  },
  {
   "cell_type": "code",
   "execution_count": 10,
   "metadata": {},
   "outputs": [
    {
     "name": "stdout",
     "output_type": "stream",
     "text": [
      "my name is ahmed\n",
      "Hello, Ahmed! How can I assist you today?\n"
     ]
    }
   ],
   "source": [
    "# Test Our Graph\n",
    "result = graph.invoke({\"messages\":[\"my name is ahmed\"]})\n",
    "# The first message we sent \n",
    "print(result[\"messages\"][0].content)\n",
    "# The sec. message which is response of the model \n",
    "print(result[\"messages\"][1].content)"
   ]
  },
  {
   "cell_type": "code",
   "execution_count": 11,
   "metadata": {},
   "outputs": [
    {
     "name": "stdout",
     "output_type": "stream",
     "text": [
      "what's my name ?\n",
      "I'm sorry, but I can't determine your name based on the information provided.\n"
     ]
    }
   ],
   "source": [
    "# Test Our Graph\n",
    "result = graph.invoke({\"messages\":[\"what's my name ?\"]})\n",
    "# The first message we sent \n",
    "print(result[\"messages\"][0].content)\n",
    "# The sec. message which is response of the model \n",
    "print(result[\"messages\"][1].content) "
   ]
  },
  {
   "cell_type": "markdown",
   "metadata": {},
   "source": [
    "\n",
    "\n",
    "\n",
    "\n",
    "<div id=\"step1\" style=\"font-family: Arial, sans-serif; padding: 15px; background: linear-gradient(90deg, #f0e68c, #ffd700); color: #333; border: 2px solid #ffa500; border-radius: 8px; margin: 10px 0;\">\n",
    "    <h3 style=\"margin: 0;\">Step 3 : Graph Visualization</h3>\n",
    "</div>"
   ]
  },
  {
   "cell_type": "code",
   "execution_count": 12,
   "metadata": {},
   "outputs": [
    {
     "data": {
      "image/png": "[encoded data removed]",
      "text/plain": [
       "<IPython.core.display.Image object>"
      ]
     },
     "metadata": {},
     "output_type": "display_data"
    }
   ],
   "source": [
    "# Lets plot our graph\n",
    "from IPython.display import Image, display\n",
    "try:\n",
    "    display(Image(graph.get_graph().draw_mermaid_png()))\n",
    "except Exception:\n",
    "    # This requires some extra dependencies and is optional\n",
    "    pass"
   ]
  },
  {
   "cell_type": "markdown",
   "metadata": {},
   "source": [
    "\n",
    "\n",
    "\n",
    "\n",
    "<div id=\"step1\" style=\"font-family: Arial, sans-serif; padding: 15px; background: linear-gradient(90deg, #f0e68c, #ffd700); color: #333; border: 2px solid #ffa500; border-radius: 8px; margin: 10px 0;\">\n",
    "    <h3 style=\"margin: 0;\">Step 4: ChatBot Loop</h3>\n",
    "</div>"
   ]
  },
  {
   "cell_type": "code",
   "execution_count": null,
   "metadata": {},
   "outputs": [
    {
     "name": "stdout",
     "output_type": "stream",
     "text": [
      "Hello! How can I assist you today?\n",
      "I'm just a program, so I don't have feelings, but I'm here to help you! How can I assist you today?\n",
      "Hello, Mohab! How can I assist you today?\n",
      "Hello, Mohab! How can I assist you today?\n",
      "No, I don't know your name. You haven't shared it with me.\n",
      "Hello! How can I assist you today?\n",
      "Hello! How can I assist you today?\n"
     ]
    }
   ],
   "source": [
    "while True:\n",
    "    try:\n",
    "        user_input = input(\"User: \")\n",
    "        if user_input.lower() in [\"quit\", \"exit\", \"q\"]:\n",
    "            print(\"Goodbye!\")\n",
    "            break\n",
    "\n",
    "        result = graph.invoke({\"messages\":[(\"user\",user_input)]})\n",
    "    except:\n",
    "        # fallback if input() is not available\n",
    "        user_input = \"What do you know about LangGraph?\"\n",
    "        print(\"user\" + user_input)\n",
    "        result = graph.invoke({\"messages\":[(\"user\",user_input)]})\n",
    "        break\n",
    "    print(result[\"messages\"][1].content)    "
   ]
  },
  {
   "cell_type": "markdown",
   "metadata": {},
   "source": [
    "\n",
    "<div id=\"introduction\" style=\"font-family: Arial, sans-serif; text-align: center; padding: 20px; background: linear-gradient(90deg, #6a5acd, #00bfff); color: white; position: relative; margin-bottom: 10px;\">\n",
    "    <h2 style=\"margin: 0;\">Part 2: Enhancing the Chatbot with Tools (Without memory)</h2>\n",
    "\n",
    "</div>"
   ]
  },
  {
   "cell_type": "markdown",
   "metadata": {},
   "source": [
    "\n",
    "\n",
    "\n",
    "<p class=\"styled-heading\"><strong>To address queries that our chatbot cannot answer due to its limited knowledge, we will integrate a web search tool. This addition will enable the chatbot to retrieve relevant information from external sources, improving its ability to provide accurate and comprehensive responses.</strong></p>\n",
    "\n",
    "<style>\n",
    "  /* Styling for the custom heading */\n",
    "  .styled-heading {\n",
    "    font-size: 20px;\n",
    "    font-weight: 600;\n",
    "    color: #a9c0d8;  /* Lighter text color for dark mode */\n",
    "    margin-top: 20px;\n",
    "    margin-bottom: 10px;\n",
    "    padding-left: 20px;\n",
    "    position: relative;\n",
    "  }\n",
    "\n",
    "  .styled-heading strong {\n",
    "    color: #ffcc00;  /* Bright yellow for emphasis */\n",
    "  }\n",
    "\n",
    "  .styled-heading:before {\n",
    "    content: '•';\n",
    "    position: absolute;\n",
    "    left: 0;\n",
    "    top: 50%;\n",
    "    transform: translateY(-50%);\n",
    "    color: #ffcc00;  /* Match bullet color with the strong tag */\n",
    "    font-size: 18px;\n",
    "  }\n",
    "</style>\n"
   ]
  },
  {
   "cell_type": "markdown",
   "metadata": {},
   "source": [
    "\n",
    "\n",
    "\n",
    "<div id=\"step1\" style=\"font-family: Arial, sans-serif; padding: 15px; background: linear-gradient(90deg, #f0e68c, #ffd700); color: #333; border: 2px solid #ffa500; border-radius: 8px; margin: 10px 0;\">\n",
    "    <h3 style=\"margin: 0;\">Step 1:using TAVILY API with LangGraph</h3>\n",
    "</div>"
   ]
  },
  {
   "cell_type": "code",
   "execution_count": null,
   "metadata": {},
   "outputs": [],
   "source": [
    "%pip install -U tavily-python langchain_community\n",
    "_set_env(\"TAVILY_API_KEY\") "
   ]
  },
  {
   "cell_type": "code",
   "execution_count": 4,
   "metadata": {},
   "outputs": [
    {
     "data": {
      "text/plain": [
       "[{'url': 'https://medium.com/@cplog/introduction-to-langgraph-a-beginners-guide-14f9be027141',\n",
       "  'content': 'Nodes: Nodes are the building blocks of your LangGraph. Each node represents a function or a computation step. You define nodes to perform specific tasks, such as processing input, making'},\n",
       " {'url': 'https://www.datacamp.com/tutorial/langgraph-tutorial',\n",
       "  'content': \"In LangGraph, each node represents an LLM agent, and the edges are the communication channels between these agents. This structure allows for clear and manageable workflows, where each agent performs specific tasks and passes information to other agents as needed. State management. One of LangGraph's standout features is its automatic state\"}]"
      ]
     },
     "execution_count": 4,
     "metadata": {},
     "output_type": "execute_result"
    }
   ],
   "source": [
    "from langchain_community.tools.tavily_search import TavilySearchResults\n",
    "# importing and using tool from langchain community\n",
    "tool = TavilySearchResults(max_results=2)\n",
    "# Example how the tool is used\n",
    "tool.invoke(\"What's a 'node' in LangGraph?\")"
   ]
  },
  {
   "cell_type": "code",
   "execution_count": 19,
   "metadata": {},
   "outputs": [
    {
     "name": "stdout",
     "output_type": "stream",
     "text": [
      "tool name -> tavily_search_results_json\n",
      "tool description -> A search engine optimized for comprehensive, accurate, and trusted results. Useful for when you need to answer questions about current events. Input should be a search query.\n"
     ]
    }
   ],
   "source": [
    "# keep in mind that model knows when to use the tool based on the name and description provided for tool itself after binding it with LLM Model\n",
    "print(\"tool name ->\" , tool.name)\n",
    "print(\"tool description ->\" , tool.description)"
   ]
  },
  {
   "cell_type": "markdown",
   "metadata": {},
   "source": [
    "\n",
    "\n",
    "\n",
    "<div id=\"step1\" style=\"font-family: Arial, sans-serif; padding: 15px; background: linear-gradient(90deg, #f0e68c, #ffd700); color: #333; border: 2px solid #ffa500; border-radius: 8px; margin: 10px 0;\">\n",
    "    <h3 style=\"margin: 0;\">Step 2:Creating ChatBot using Tools from Scratch</h3>\n",
    "</div>\n"
   ]
  },
  {
   "cell_type": "code",
   "execution_count": 20,
   "metadata": {},
   "outputs": [],
   "source": [
    "from typing import Annotated,TypedDict\n",
    "from langgraph.graph import StateGraph, START, END\n",
    "from langgraph.graph.message import add_messages\n",
    "from langchain_community.tools.tavily_search import TavilySearchResults\n",
    "\n",
    "\n",
    "# Step 1 : Identifying State\n",
    "class State(TypedDict):\n",
    "    messages: Annotated[list, add_messages]\n",
    "\n",
    "# Step 2 : bulding state\n",
    "builder = StateGraph(State)\n",
    "\n",
    "# Step 3 : Identify tool we are going to use\n",
    "tool = TavilySearchResults(max_results=2)\n",
    "tools = [tool]\n",
    "\n",
    "# Step 4 : LLM is binded with the tools (it doesnt mean the model is gonna use the tool it means the model is gonna say we need to use it)\n",
    "llm_with_tools = llm.bind_tools(tools)\n",
    "\n",
    "# Step 5 : function which will be added as a node\n",
    "def chatbot(state: State):\n",
    "    return {\"messages\": [llm_with_tools.invoke(state[\"messages\"])]}"
   ]
  },
  {
   "cell_type": "markdown",
   "metadata": {},
   "source": [
    "\n",
    "\n",
    "\n",
    "\n",
    "<p class=\"styled-heading\"><strong>Creating Tool node Manullay</strong></p>\n",
    "\n",
    "<style>\n",
    "  /* Styling for the custom heading */\n",
    "  .styled-heading {\n",
    "    font-size: 20px;\n",
    "    font-weight: 600;\n",
    "    color: #a9c0d8;  /* Lighter text color for dark mode */\n",
    "    margin-top: 20px;\n",
    "    margin-bottom: 10px;\n",
    "    padding-left: 20px;\n",
    "    position: relative;\n",
    "  }\n",
    "\n",
    "  .styled-heading strong {\n",
    "    color: #ffcc00;  /* Bright yellow for emphasis */\n",
    "  }\n",
    "\n",
    "  .styled-heading:before {\n",
    "    content: '•';\n",
    "    position: absolute;\n",
    "    left: 0;\n",
    "    top: 50%;\n",
    "    transform: translateY(-50%);\n",
    "    color: #ffcc00;  /* Match bullet color with the strong tag */\n",
    "    font-size: 18px;\n",
    "  }\n",
    "</style>\n"
   ]
  },
  {
   "cell_type": "code",
   "execution_count": 21,
   "metadata": {},
   "outputs": [
    {
     "data": {
      "text/plain": [
       "<langgraph.graph.state.StateGraph at 0x774cf76abdc0>"
      ]
     },
     "execution_count": 21,
     "metadata": {},
     "output_type": "execute_result"
    }
   ],
   "source": [
    "import json\n",
    "from langchain_core.messages import ToolMessage\n",
    "\n",
    "# Step 6 : Bulding Tool node from scratch (in practise we dont use it (as it's implemented) Here just in case you want to make your own ToolNode)\n",
    "# Creating Tool Node from scratch (Which excutes the tool manually)\n",
    "class BasicToolNode:\n",
    "    \"\"\"A node that runs the tools requested in the last AIMessage.\"\"\"\n",
    "    \n",
    "    # Iterates on every tool in list stores them based as a dic based on their names { key -> tool.name : value -> tool itself}\n",
    "    def __init__(self, tools: list) -> None:\n",
    "        self.tools_by_name = {tool.name: tool for tool in tools}\n",
    "\n",
    "    # every cycle function is excuted\n",
    "    def __call__(self, inputs: dict):\n",
    "        # take the latest message sent\n",
    "        if messages := inputs.get(\"messages\", []):\n",
    "            message = messages[-1]\n",
    "        else:\n",
    "            raise ValueError(\"No message found in input\")\n",
    "        outputs = []\n",
    "        # Tool_calls will be a section inside the message of last response (it may include multiple tool calls thats why its a list)\n",
    "        for tool_call in message.tool_calls:\n",
    "            # calling the tool\n",
    "            tool_result = self.tools_by_name[tool_call[\"name\"]].invoke(\n",
    "                tool_call[\"args\"]\n",
    "            )\n",
    "            \n",
    "            # return format for the output for each tool\n",
    "            outputs.append(\n",
    "                ToolMessage(\n",
    "                    content=json.dumps(tool_result),\n",
    "                    name=tool_call[\"name\"],\n",
    "                    tool_call_id=tool_call[\"id\"],\n",
    "                )\n",
    "            )\n",
    "        return {\"messages\": outputs}\n",
    "    \n",
    "tool_node = BasicToolNode(tools=[tool])\n",
    "\n",
    "# Step 7 : Mapping the nodes to functions\n",
    "builder.add_node(\"chatbot\", chatbot)\n",
    "builder.add_node(\"tools\", tool_node)"
   ]
  },
  {
   "cell_type": "markdown",
   "metadata": {},
   "source": [
    "\n",
    "\n",
    "\n",
    "<p class=\"styled-heading\"><strong>Creating Route_tools which helps conditional edge to detrime which route to move to</strong></p>\n",
    "\n",
    "<style>\n",
    "  /* Styling for the custom heading */\n",
    "  .styled-heading {\n",
    "    font-size: 20px;\n",
    "    font-weight: 600;\n",
    "    color: #a9c0d8;  /* Lighter text color for dark mode */\n",
    "    margin-top: 20px;\n",
    "    margin-bottom: 10px;\n",
    "    padding-left: 20px;\n",
    "    position: relative;\n",
    "  }\n",
    "\n",
    "  .styled-heading strong {\n",
    "    color: #ffcc00;  /* Bright yellow for emphasis */\n",
    "  }\n",
    "\n",
    "  .styled-heading:before {\n",
    "    content: '•';\n",
    "    position: absolute;\n",
    "    left: 0;\n",
    "    top: 50%;\n",
    "    transform: translateY(-50%);\n",
    "    color: #ffcc00;  /* Match bullet color with the strong tag */\n",
    "    font-size: 18px;\n",
    "  }\n",
    "</style>\n"
   ]
  },
  {
   "cell_type": "code",
   "execution_count": 22,
   "metadata": {},
   "outputs": [],
   "source": [
    "# Step 8 : Route_tools (determines the route which Chatbot Node is going to follow) Manually\n",
    "def route_tools(state: State):\n",
    "    \"\"\"\n",
    "    Use in the conditional_edge to route to the ToolNode if the last message\n",
    "    has tool calls. Otherwise, route to the end.\n",
    "    \"\"\"\n",
    "    if isinstance(state, list):\n",
    "        ai_message = state[-1]\n",
    "    elif messages := state.get(\"messages\", []):\n",
    "        ai_message = messages[-1]\n",
    "    else:\n",
    "        raise ValueError(f\"No messages found in input state to tool_edge: {state}\")\n",
    "    if hasattr(ai_message, \"tool_calls\") and len(ai_message.tool_calls) > 0:\n",
    "        return \"tools\"\n",
    "    return END\n",
    "\n",
    "#  Step 9 : Connecting Edges\n",
    "builder.add_edge(START, \"chatbot\")\n",
    "\n",
    "# The `tools_condition` function returns \"tools\" if the chatbot asks to use a tool, and \"END\" if\n",
    "# it is fine directly responding. This conditional routing defines the main agent loop.\n",
    "builder.add_conditional_edges(\n",
    "    \"chatbot\",\n",
    "    route_tools,\n",
    "    # The following dictionary lets you tell the graph to interpret the condition's outputs as a specific node\n",
    "    # It defaults to the identity function, but if you\n",
    "    # want to use a node named something else apart from \"tools\",\n",
    "    # You can update the value of the dictionary to something else\n",
    "    # e.g., \"tools\": \"my_tools\"\n",
    "    {\"tools\": \"tools\", END: END},\n",
    ")\n",
    "\n",
    "builder.add_edge(\"tools\", \"chatbot\")\n",
    "\n",
    "graph = builder.compile()"
   ]
  },
  {
   "cell_type": "markdown",
   "metadata": {},
   "source": [
    "\n",
    "\n",
    "<div id=\"step1\" style=\"font-family: Arial, sans-serif; padding: 15px; background: linear-gradient(90deg, #f0e68c, #ffd700); color: #333; border: 2px solid #ffa500; border-radius: 8px; margin: 10px 0;\">\n",
    "    <h3 style=\"margin: 0;\">Step 3: Visualization of our graph</h3>\n",
    "</div>\n"
   ]
  },
  {
   "cell_type": "code",
   "execution_count": 23,
   "metadata": {},
   "outputs": [
    {
     "data": {
      "image/png": "[encoded data removed]",
      "text/plain": [
       "<IPython.core.display.Image object>"
      ]
     },
     "metadata": {},
     "output_type": "display_data"
    }
   ],
   "source": [
    "from IPython.display import Image, display\n",
    "\n",
    "try:\n",
    "    display(Image(graph.get_graph().draw_mermaid_png()))\n",
    "except Exception:\n",
    "    # This requires some extra dependencies and is optional\n",
    "    pass"
   ]
  },
  {
   "cell_type": "markdown",
   "metadata": {},
   "source": [
    "\n",
    "<div id=\"step1\" style=\"font-family: Arial, sans-serif; padding: 15px; background: linear-gradient(90deg, #f0e68c, #ffd700); color: #333; border: 2px solid #ffa500; border-radius: 8px; margin: 10px 0;\">\n",
    "    <h3 style=\"margin: 0;\">Step 4: Manually testing our graph</h3>\n",
    "</div>\n"
   ]
  },
  {
   "cell_type": "code",
   "execution_count": 24,
   "metadata": {},
   "outputs": [],
   "source": [
    "result = graph.invoke({\"messages\":\"What do you know about LangGraph? provide answer as bullet points from the internet\"})"
   ]
  },
  {
   "cell_type": "code",
   "execution_count": 25,
   "metadata": {},
   "outputs": [
    {
     "data": {
      "text/plain": [
       "HumanMessage(content='What do you know about LangGraph? provide answer as bullet points from the internet', additional_kwargs={}, response_metadata={}, id='95e76ecb-11ad-4333-9846-8c810752cd7c')"
      ]
     },
     "execution_count": 25,
     "metadata": {},
     "output_type": "execute_result"
    }
   ],
   "source": [
    "# Thats the first state stored (user query as an input for Chatbot part before going to the next state)\n",
    "result[\"messages\"][0]"
   ]
  },
  {
   "cell_type": "code",
   "execution_count": 26,
   "metadata": {},
   "outputs": [
    {
     "data": {
      "text/plain": [
       "AIMessage(content='', additional_kwargs={'tool_calls': [{'id': 'call_lFkycBwxjCYNqaAOVbjOevao', 'function': {'arguments': '{\"query\":\"LangGraph\"}', 'name': 'tavily_search_results_json'}, 'type': 'function'}], 'refusal': None}, response_metadata={'token_usage': {'completion_tokens': 19, 'prompt_tokens': 95, 'total_tokens': 114, 'completion_tokens_details': {'accepted_prediction_tokens': 0, 'audio_tokens': 0, 'reasoning_tokens': 0, 'rejected_prediction_tokens': 0}, 'prompt_tokens_details': {'audio_tokens': 0, 'cached_tokens': 0}}, 'model_name': 'gpt-4o-2024-08-06', 'system_fingerprint': 'fp_a79d8dac1f', 'finish_reason': 'tool_calls', 'logprobs': None}, id='run-260b2f2e-be42-45cc-bd29-10db1ae309c1-0', tool_calls=[{'name': 'tavily_search_results_json', 'args': {'query': 'LangGraph'}, 'id': 'call_lFkycBwxjCYNqaAOVbjOevao', 'type': 'tool_call'}], usage_metadata={'input_tokens': 95, 'output_tokens': 19, 'total_tokens': 114, 'input_token_details': {'audio': 0, 'cache_read': 0}, 'output_token_details': {'audio': 0, 'reasoning': 0}})"
      ]
     },
     "execution_count": 26,
     "metadata": {},
     "output_type": "execute_result"
    }
   ],
   "source": [
    "# Thats the second state stored (The output from the chatbot where content is empty which means the model knew it shouldn't answer and went send back in argument field function which it needs to call)\n",
    "result[\"messages\"][1]"
   ]
  },
  {
   "cell_type": "code",
   "execution_count": 27,
   "metadata": {},
   "outputs": [
    {
     "data": {
      "text/plain": [
       "ToolMessage(content='[{\"url\": \"https://langchain-ai.github.io/langgraph/\", \"content\": \"LangGraph is a low-level framework that allows you to create stateful, multi-actor applications with LLMs, using cycles, controllability, and persistence. Learn how to use LangGraph with LangChain, LangSmith, and Anthropic tools to build agent and multi-agent workflows.\"}, {\"url\": \"https://www.langchain.com/langgraph\", \"content\": \"LangGraph is a framework for building and scaling agentic applications with LangChain Platform. It supports diverse control flows, human-agent collaboration, streaming, and deployment options for complex tasks.\"}]', name='tavily_search_results_json', id='e0110c80-5fd2-4792-9eb6-81bf107ffade', tool_call_id='call_lFkycBwxjCYNqaAOVbjOevao')"
      ]
     },
     "execution_count": 27,
     "metadata": {},
     "output_type": "execute_result"
    }
   ],
   "source": [
    "# The third state which is the answer output of the tool and this is going to be send back to gpt\n",
    "result[\"messages\"][2]"
   ]
  },
  {
   "cell_type": "code",
   "execution_count": 28,
   "metadata": {},
   "outputs": [
    {
     "data": {
      "text/plain": [
       "AIMessage(content=\"Here are some bullet points about LangGraph based on the information available online:\\n\\n- LangGraph is a low-level framework designed to facilitate the creation of stateful, multi-actor applications using language models (LLMs).\\n- It provides functionalities such as cycles, controllability, and persistence to enhance application development.\\n- LangGraph can be integrated with LangChain, LangSmith, and Anthropic tools to build agent and multi-agent workflows.\\n- It supports diverse control flows and human-agent collaboration, making it versatile for complex task management.\\n- The framework allows for streaming and deployment options, enabling scalable agentic application development.\\n\\nFor more detailed information, you can visit LangGraph's [official page](https://langchain-ai.github.io/langgraph/) or [LangChain's website](https://www.langchain.com/langgraph).\", additional_kwargs={'refusal': None}, response_metadata={'token_usage': {'completion_tokens': 164, 'prompt_tokens': 258, 'total_tokens': 422, 'completion_tokens_details': {'accepted_prediction_tokens': 0, 'audio_tokens': 0, 'reasoning_tokens': 0, 'rejected_prediction_tokens': 0}, 'prompt_tokens_details': {'audio_tokens': 0, 'cached_tokens': 0}}, 'model_name': 'gpt-4o-2024-08-06', 'system_fingerprint': 'fp_a79d8dac1f', 'finish_reason': 'stop', 'logprobs': None}, id='run-1b7c2cea-c4d3-40dc-a00b-82797079c6e7-0', usage_metadata={'input_tokens': 258, 'output_tokens': 164, 'total_tokens': 422, 'input_token_details': {'audio': 0, 'cache_read': 0}, 'output_token_details': {'audio': 0, 'reasoning': 0}})"
      ]
     },
     "execution_count": 28,
     "metadata": {},
     "output_type": "execute_result"
    }
   ],
   "source": [
    "# The output of the gpt after the previous response was given to it\n",
    "result[\"messages\"][3]"
   ]
  },
  {
   "cell_type": "markdown",
   "metadata": {},
   "source": [
    "<div id=\"introduction\" style=\"font-family: Arial, sans-serif; text-align: center; padding: 20px; background: linear-gradient(90deg, #6a5acd, #00bfff); color: white; position: relative; margin-bottom: 10px;\">\n",
    "    <h2 style=\"margin: 0;\">Part 3 : Adding Memory to Chatbot</h2>\n",
    "\n",
    "</div>"
   ]
  },
  {
   "cell_type": "markdown",
   "metadata": {},
   "source": [
    "\n",
    "\n",
    "<div id=\"step1\" style=\"font-family: Arial, sans-serif; padding: 15px; background: linear-gradient(90deg, #f0e68c, #ffd700); color: #333; border: 2px solid #ffa500; border-radius: 8px; margin: 10px 0;\">\n",
    "    <h3 style=\"margin: 0;\">Step 1 : Bulding Graph</h3>\n",
    "</div>"
   ]
  },
  {
   "cell_type": "code",
   "execution_count": 29,
   "metadata": {},
   "outputs": [],
   "source": [
    "from typing import Annotated\n",
    "from langchain_community.tools.tavily_search import TavilySearchResults\n",
    "from typing_extensions import TypedDict\n",
    "from langgraph.graph import StateGraph, START, END\n",
    "from langgraph.graph.message import add_messages\n",
    "from langgraph.prebuilt import ToolNode, tools_condition\n",
    "from langgraph.checkpoint.memory import MemorySaver\n",
    "\n",
    "# Step 1 : Adding Memory Saver\n",
    "memory = MemorySaver()\n",
    "\n",
    "# All actually same steps we did before\n",
    "class State(TypedDict):\n",
    "    messages: Annotated[list, add_messages]\n",
    "\n",
    "graph_builder = StateGraph(State)\n",
    "\n",
    "search_tool = TavilySearchResults(max_results=2)\n",
    "tools = [search_tool]\n",
    "llm_with_tools = llm.bind_tools(tools)\n",
    "\n",
    "def chatbot(state: State):\n",
    "    return {\"messages\": [llm_with_tools.invoke(state[\"messages\"])]}\n",
    "\n",
    "graph_builder.add_node(\"chatbot\", chatbot)\n",
    "tool_node = ToolNode(tools=[tool])\n",
    "graph_builder.add_node(\"tools\", tool_node)\n",
    "\n",
    "graph_builder.add_edge(START, \"chatbot\")\n",
    "graph_builder.add_conditional_edges(\"chatbot\",tools_condition)\n",
    "graph_builder.add_edge(\"tools\", \"chatbot\")\n",
    "\n",
    "graph = graph_builder.compile(checkpointer=memory)"
   ]
  },
  {
   "cell_type": "markdown",
   "metadata": {},
   "source": [
    "\n",
    "<div id=\"step1\" style=\"font-family: Arial, sans-serif; padding: 15px; background: linear-gradient(90deg, #f0e68c, #ffd700); color: #333; border: 2px solid #ffa500; border-radius: 8px; margin: 10px 0;\">\n",
    "    <h3 style=\"margin: 0;\">Step 2 : Manual Testing ChatBot</h3>\n",
    "</div>\n"
   ]
  },
  {
   "cell_type": "code",
   "execution_count": 30,
   "metadata": {},
   "outputs": [],
   "source": [
    "config = {\"configurable\": {\"thread_id\": \"1\"}}\n",
    "\n",
    "result = graph.invoke({\"messages\":[(\"user\",\"Do you know my name\")]},config)"
   ]
  },
  {
   "cell_type": "code",
   "execution_count": 31,
   "metadata": {},
   "outputs": [
    {
     "name": "stdout",
     "output_type": "stream",
     "text": [
      "content=\"I'm sorry, but I don't have access to your personal information, including your name. How can I assist you today?\" additional_kwargs={'refusal': None} response_metadata={'token_usage': {'completion_tokens': 25, 'prompt_tokens': 84, 'total_tokens': 109, 'completion_tokens_details': {'accepted_prediction_tokens': 0, 'audio_tokens': 0, 'reasoning_tokens': 0, 'rejected_prediction_tokens': 0}, 'prompt_tokens_details': {'audio_tokens': 0, 'cached_tokens': 0}}, 'model_name': 'gpt-4o-2024-08-06', 'system_fingerprint': 'fp_f785eb5f47', 'finish_reason': 'stop', 'logprobs': None} id='run-e78e38fc-c95b-41ae-bbb5-0ca181a048ef-0' usage_metadata={'input_tokens': 84, 'output_tokens': 25, 'total_tokens': 109, 'input_token_details': {'audio': 0, 'cache_read': 0}, 'output_token_details': {'audio': 0, 'reasoning': 0}}\n"
     ]
    }
   ],
   "source": [
    "print(result[\"messages\"][1])"
   ]
  },
  {
   "cell_type": "code",
   "execution_count": 32,
   "metadata": {},
   "outputs": [],
   "source": [
    "result = graph.invoke({\"messages\":[(\"user\",\"My name is Ahmed\")]},config)"
   ]
  },
  {
   "cell_type": "code",
   "execution_count": 33,
   "metadata": {},
   "outputs": [
    {
     "name": "stdout",
     "output_type": "stream",
     "text": [
      "content='Nice to meet you, Ahmed! How can I assist you today?' additional_kwargs={'refusal': None} response_metadata={'token_usage': {'completion_tokens': 15, 'prompt_tokens': 120, 'total_tokens': 135, 'completion_tokens_details': {'accepted_prediction_tokens': 0, 'audio_tokens': 0, 'reasoning_tokens': 0, 'rejected_prediction_tokens': 0}, 'prompt_tokens_details': {'audio_tokens': 0, 'cached_tokens': 0}}, 'model_name': 'gpt-4o-2024-08-06', 'system_fingerprint': 'fp_9faba9f038', 'finish_reason': 'stop', 'logprobs': None} id='run-9327c1e3-bc99-4787-8466-fa7588434723-0' usage_metadata={'input_tokens': 120, 'output_tokens': 15, 'total_tokens': 135, 'input_token_details': {'audio': 0, 'cache_read': 0}, 'output_token_details': {'audio': 0, 'reasoning': 0}}\n"
     ]
    }
   ],
   "source": [
    "print(result[\"messages\"][3])"
   ]
  },
  {
   "cell_type": "code",
   "execution_count": 34,
   "metadata": {},
   "outputs": [],
   "source": [
    "result = graph.invoke({\"messages\":[(\"user\",\"Do you know my name now ?\")]},config)"
   ]
  },
  {
   "cell_type": "code",
   "execution_count": 35,
   "metadata": {},
   "outputs": [
    {
     "name": "stdout",
     "output_type": "stream",
     "text": [
      "content='Yes, you mentioned that your name is Ahmed. How can I assist you further?' additional_kwargs={'refusal': None} response_metadata={'token_usage': {'completion_tokens': 18, 'prompt_tokens': 149, 'total_tokens': 167, 'completion_tokens_details': {'accepted_prediction_tokens': 0, 'audio_tokens': 0, 'reasoning_tokens': 0, 'rejected_prediction_tokens': 0}, 'prompt_tokens_details': {'audio_tokens': 0, 'cached_tokens': 0}}, 'model_name': 'gpt-4o-2024-08-06', 'system_fingerprint': 'fp_9faba9f038', 'finish_reason': 'stop', 'logprobs': None} id='run-d4c7b341-3994-43b5-aaf9-e1f1b68cee31-0' usage_metadata={'input_tokens': 149, 'output_tokens': 18, 'total_tokens': 167, 'input_token_details': {'audio': 0, 'cache_read': 0}, 'output_token_details': {'audio': 0, 'reasoning': 0}}\n"
     ]
    }
   ],
   "source": [
    "print(result[\"messages\"][-1])"
   ]
  },
  {
   "cell_type": "markdown",
   "metadata": {},
   "source": [
    "\n",
    "<div id=\"step1\" style=\"font-family: Arial, sans-serif; padding: 15px; background: linear-gradient(90deg, #f0e68c, #ffd700); color: #333; border: 2px solid #ffa500; border-radius: 8px; margin: 10px 0;\">\n",
    "    <h3 style=\"margin: 0;\">Step 3 : ChatBot LOOP</h3>\n",
    "</div>"
   ]
  },
  {
   "cell_type": "code",
   "execution_count": 36,
   "metadata": {},
   "outputs": [
    {
     "name": "stdout",
     "output_type": "stream",
     "text": [
      "Hello Mohab! How can I assist you today?\n",
      "Yes, you just mentioned that your name is Mohab. How can I assist you further?\n",
      "While I can remember the details of our current conversation, I don't have the ability to retain information about users or conversations once the interaction ends. Each session is stateless, so I won't remember previous interactions. How can I assist you today?\n",
      "Goodbye!\n"
     ]
    }
   ],
   "source": [
    "i = 0\n",
    "while True:\n",
    "    try:\n",
    "        user_input = input(\"User: \")\n",
    "        if user_input.lower() in [\"quit\", \"exit\", \"q\"]:\n",
    "            print(\"Goodbye!\")\n",
    "            break\n",
    "        result = graph.invoke({\"messages\":[(\"user\",user_input)]},config)\n",
    "        print(result[\"messages\"][-1].content)    \n",
    "    except:\n",
    "        # fallback if input() is not available\n",
    "        user_input = \"What do you know about LangGraph?\"\n",
    "        print(\"user\" + user_input)\n",
    "        result = graph.invoke({\"messages\":[(\"user\",user_input)]},config)\n",
    "        print(result[\"messages\"][-1].content)\n",
    "        break\n",
    "    \n"
   ]
  },
  {
   "cell_type": "markdown",
   "metadata": {},
   "source": [
    "\n",
    "\n",
    "\n",
    "\n",
    "<div class=\"graph-execution-flow\">\n",
    "    <h3>Conclusion</h3>\n",
    "    <ul>\n",
    "        <li><strong>We now understand how to build a chatbot and enhance it with tools like the Custom Search API to enable access to up-to-date data. Additionally, we incorporated memory functionality to improve the chatbot’s performance and user interactions.</strong><br></li>\n",
    "    </ul>\n",
    "</div>\n",
    "\n",
    "<style>\n",
    "  .graph-execution-flow {\n",
    "    background-color: #e6f7ff; /* Light blue background for the section */\n",
    "    padding: 20px;\n",
    "    border-radius: 8px;\n",
    "    font-family: Arial, sans-serif;\n",
    "    max-width: 700px;\n",
    "    margin: 20px auto;\n",
    "    box-shadow: 0 4px 10px rgba(0, 0, 0, 0.1);\n",
    "  }\n",
    "\n",
    "  .graph-execution-flow h3 {\n",
    "    color: #0a4f8b; /* Blue color for the header */\n",
    "    font-weight: 600;\n",
    "    font-size: 22px;\n",
    "    margin-bottom: 15px;\n",
    "  }\n",
    "\n",
    "  .graph-execution-flow ul {\n",
    "    list-style-type: disc;\n",
    "    padding-left: 20px;\n",
    "    color: #333; /* Dark gray for list items */\n",
    "    font-size: 16px;\n",
    "    line-height: 1.6;\n",
    "  }\n",
    "\n",
    "  .graph-execution-flow li {\n",
    "    margin-bottom: 10px;\n",
    "  }\n",
    "\n",
    "  .graph-execution-flow strong {\n",
    "    color: #0a4f8b; /* Blue color for emphasized text */\n",
    "  }\n",
    "\n",
    "  .graph-execution-flow li br {\n",
    "    margin-bottom: 5px; /* Small space between the line breaks */\n",
    "  }\n",
    "</style>\n"
   ]
  },
  {
   "cell_type": "markdown",
   "metadata": {},
   "source": [
    "<div id=\"introduction\" style=\"font-family: Arial, sans-serif; text-align: center; padding: 20px; background: linear-gradient(90deg, #6a5acd, #00bfff); color: white; position: relative; margin-bottom: 10px;\">\n",
    "    <h2 style=\"margin: 0;\">Part 4 : Creating Custom Tool and Adding it to Chatbot</h2>\n",
    "\n",
    "</div>"
   ]
  },
  {
   "cell_type": "markdown",
   "metadata": {},
   "source": [
    "\n",
    "<div id=\"step1\" style=\"font-family: Arial, sans-serif; padding: 15px; background: linear-gradient(90deg, #f0e68c, #ffd700); color: #333; border: 2px solid #ffa500; border-radius: 8px; margin: 10px 0;\">\n",
    "    <h3 style=\"margin: 0;\">Step 1: Creating Tool</h3>\n",
    "</div>"
   ]
  },
  {
   "cell_type": "code",
   "execution_count": 37,
   "metadata": {},
   "outputs": [],
   "source": [
    "from langchain_core.tools import tool\n",
    "\n",
    "# Define the evaluate_expression tool\n",
    "@tool\n",
    "def evaluate_expression(expression: str) -> float:\n",
    "    \"\"\"Evaluates a mathematical expression.\n",
    "\n",
    "    Args:\n",
    "        expression: A string representing a mathematical expression.\n",
    "\n",
    "    Returns:\n",
    "        The result of the evaluated expression.\n",
    "    \"\"\"\n",
    "    try:\n",
    "        result = eval(expression, {\"__builtins__\": None}, {})\n",
    "        return result\n",
    "    except Exception as e:\n",
    "        raise ValueError(f\"Invalid expression: {expression}. Error: {e}\")"
   ]
  },
  {
   "cell_type": "markdown",
   "metadata": {},
   "source": [
    "\n",
    "<div id=\"step1\" style=\"font-family: Arial, sans-serif; padding: 15px; background: linear-gradient(90deg, #f0e68c, #ffd700); color: #333; border: 2px solid #ffa500; border-radius: 8px; margin: 10px 0;\">\n",
    "    <h3 style=\"margin: 0;\">Step 2 : Integrating tool to chatbot </h3>\n",
    "</div>"
   ]
  },
  {
   "cell_type": "code",
   "execution_count": 38,
   "metadata": {},
   "outputs": [],
   "source": [
    "from langchain_core.tools import tool\n",
    "from typing import Annotated\n",
    "from langchain_community.tools.tavily_search import TavilySearchResults\n",
    "from typing_extensions import TypedDict\n",
    "from langgraph.graph import StateGraph, START, END\n",
    "from langgraph.graph.message import add_messages\n",
    "from langgraph.prebuilt import ToolNode, tools_condition\n",
    "from langgraph.checkpoint.memory import MemorySaver\n",
    "\n",
    "# Memory saver for state management\n",
    "memory = MemorySaver()\n",
    "\n",
    "# Define the state structure\n",
    "class State(TypedDict):\n",
    "    messages: Annotated[list, add_messages]\n",
    "\n",
    "# Create the state graph\n",
    "graph_builder = StateGraph(State)\n",
    "\n",
    "\n",
    "# Initialize the search tool\n",
    "search_tool = TavilySearchResults(max_results=2)\n",
    "\n",
    "# Adding tools to the list\n",
    "tools = [search_tool, evaluate_expression]\n",
    "\n",
    "# Bind tools to the LLM\n",
    "llm_with_tools = llm.bind_tools(tools)\n",
    "\n",
    "# Define the chatbot function\n",
    "def chatbot(state: State):\n",
    "    return {\"messages\": [llm_with_tools.invoke(state[\"messages\"])]}\n",
    "\n",
    "# Add nodes and edges to the graph\n",
    "graph_builder.add_node(\"chatbot\", chatbot)\n",
    "tool_node = ToolNode(tools=tools)  # Ensure you pass the correct tools here\n",
    "graph_builder.add_node(\"tools\", tool_node)\n",
    "\n",
    "# Define the edges in the graph\n",
    "graph_builder.add_edge(START, \"chatbot\")\n",
    "graph_builder.add_conditional_edges(\"chatbot\", tools_condition)\n",
    "graph_builder.add_edge(\"tools\", \"chatbot\")\n",
    "\n",
    "# Compile the graph\n",
    "graph = graph_builder.compile(checkpointer=memory)"
   ]
  },
  {
   "cell_type": "markdown",
   "metadata": {},
   "source": [
    "\n",
    "\n",
    "<div id=\"step1\" style=\"font-family: Arial, sans-serif; padding: 15px; background: linear-gradient(90deg, #f0e68c, #ffd700); color: #333; border: 2px solid #ffa500; border-radius: 8px; margin: 10px 0;\">\n",
    "    <h3 style=\"margin: 0;\">Step 3 :Testing and Analyzing output</h3>\n",
    "</div>"
   ]
  },
  {
   "cell_type": "code",
   "execution_count": 42,
   "metadata": {},
   "outputs": [
    {
     "name": "stdout",
     "output_type": "stream",
     "text": [
      "Goodbye!\n"
     ]
    }
   ],
   "source": [
    "while True:\n",
    "    try:\n",
    "        user_input = input(\"User: \")\n",
    "        if user_input.lower() in [\"quit\", \"exit\", \"q\"]:\n",
    "            print(\"Goodbye!\")\n",
    "            break\n",
    "        result = graph.invoke({\"messages\":[(\"user\",user_input)]},config)\n",
    "        print(result[\"messages\"][-1].content)    \n",
    "    except:\n",
    "        # fallback if input() is not available\n",
    "        user_input = \"What do you know about LangGraph?\"\n",
    "        print(\"user\" + user_input)\n",
    "        result = graph.invoke({\"messages\":[(\"user\",user_input)]},config)\n",
    "        print(result[\"messages\"][-1])\n",
    "        break"
   ]
  },
  {
   "cell_type": "code",
   "execution_count": 43,
   "metadata": {},
   "outputs": [
    {
     "name": "stdout",
     "output_type": "stream",
     "text": [
      "content='Do you know my name' additional_kwargs={} response_metadata={} id='0834ab7b-1b6f-41a9-ac55-9bd8215d15a8'\n"
     ]
    }
   ],
   "source": [
    "print(result[\"messages\"][0])"
   ]
  },
  {
   "cell_type": "markdown",
   "metadata": {},
   "source": [
    "\n",
    "<div id=\"introduction\" style=\"font-family: Arial, sans-serif; text-align: center; padding: 20px; background: linear-gradient(90deg, #6a5acd, #00bfff); color: white; position: relative; margin-bottom: 10px;\">\n",
    "    <h2 style=\"margin: 0;\">Part 5 : Adding a Simple RAG system inside our chatbot</h2>\n",
    "\n",
    "</div>"
   ]
  },
  {
   "cell_type": "markdown",
   "metadata": {},
   "source": [
    "\n",
    "<div class=\"graph-execution-flow\">\n",
    "    <h3>Lets make a simple RAG system dealing with an Audio File </h3>\n",
    "    <ul>\n",
    "        <li><strong>Data -> Text</strong><br></li>\n",
    "        <li><strong>Chunking Text</strong><br></li>\n",
    "        <li><strong>Generating Embedding for each chunk</strong><br></li>\n",
    "        <li><strong>Storing them in a VectorDB</strong><br></li>\n",
    "    </ul>\n",
    "</div>\n",
    "\n",
    "<style>\n",
    "  .graph-execution-flow {\n",
    "    background-color: #e6f7ff; /* Light blue background for the section */\n",
    "    padding: 20px;\n",
    "    border-radius: 8px;\n",
    "    font-family: Arial, sans-serif;\n",
    "    max-width: 700px;\n",
    "    margin: 20px auto;\n",
    "    box-shadow: 0 4px 10px rgba(0, 0, 0, 0.1);\n",
    "  }\n",
    "\n",
    "  .graph-execution-flow h3 {\n",
    "    color: #0a4f8b; /* Blue color for the header */\n",
    "    font-weight: 600;\n",
    "    font-size: 22px;\n",
    "    margin-bottom: 15px;\n",
    "  }\n",
    "\n",
    "  .graph-execution-flow ul {\n",
    "    list-style-type: disc;\n",
    "    padding-left: 20px;\n",
    "    color: #333; /* Dark gray for list items */\n",
    "    font-size: 16px;\n",
    "    line-height: 1.6;\n",
    "  }\n",
    "\n",
    "  .graph-execution-flow li {\n",
    "    margin-bottom: 10px;\n",
    "  }\n",
    "\n",
    "  .graph-execution-flow strong {\n",
    "    color: #0a4f8b; /* Blue color for emphasized text */\n",
    "  }\n",
    "\n",
    "  .graph-execution-flow li br {\n",
    "    margin-bottom: 5px; /* Small space between the line breaks */\n",
    "  }\n",
    "</style>\n"
   ]
  },
  {
   "cell_type": "markdown",
   "metadata": {},
   "source": [
    "\n",
    "<div id=\"step1\" style=\"font-family: Arial, sans-serif; padding: 15px; background: linear-gradient(90deg, #f0e68c, #ffd700); color: #333; border: 2px solid #ffa500; border-radius: 8px; margin: 10px 0;\">\n",
    "    <h3 style=\"margin: 0;\">Step 1 : Chaning Audio to Text using Whisper</h3>\n",
    "</div>"
   ]
  },
  {
   "cell_type": "code",
   "execution_count": 40,
   "metadata": {},
   "outputs": [],
   "source": [
    "from openai import OpenAI\n",
    "client = OpenAI(api_key=os.environ.get(\"OpenAi_Key\"))\n",
    "\n",
    "# load the audio File\n",
    "audio_file= open(\"I Meet MrBeast To Break The Internet!!.mp3\", \"rb\")\n",
    "\n",
    "# Generating Transcription for audio file\n",
    "transcription = client.audio.transcriptions.create(\n",
    "  model=\"whisper-1\", \n",
    "  file=audio_file\n",
    ")\n",
    "\n",
    "transcription = transcription.text"
   ]
  },
  {
   "cell_type": "markdown",
   "metadata": {},
   "source": [
    "\n",
    "<div id=\"step1\" style=\"font-family: Arial, sans-serif; padding: 15px; background: linear-gradient(90deg, #f0e68c, #ffd700); color: #333; border: 2px solid #ffa500; border-radius: 8px; margin: 10px 0;\">\n",
    "    <h3 style=\"margin: 0;\">Step 2 : Chunking The text</h3>\n",
    "</div>"
   ]
  },
  {
   "cell_type": "code",
   "execution_count": 41,
   "metadata": {},
   "outputs": [],
   "source": [
    "from langchain_text_splitters import RecursiveCharacterTextSplitter\n",
    "\n",
    "# Split the transcription into chunks\n",
    "text_splitter = RecursiveCharacterTextSplitter(\n",
    "    chunk_size=100, \n",
    "    chunk_overlap=50\n",
    ")\n",
    "\n",
    "# Create document chunks\n",
    "transcript_splits = text_splitter.create_documents([transcription])"
   ]
  },
  {
   "cell_type": "markdown",
   "metadata": {},
   "source": [
    "\n",
    "<div id=\"step1\" style=\"font-family: Arial, sans-serif; padding: 15px; background: linear-gradient(90deg, #f0e68c, #ffd700); color: #333; border: 2px solid #ffa500; border-radius: 8px; margin: 10px 0;\">\n",
    "    <h3 style=\"margin: 0;\">Step 3 : Vector DB and Embeddings</h3>\n",
    "</div>"
   ]
  },
  {
   "cell_type": "code",
   "execution_count": 42,
   "metadata": {},
   "outputs": [],
   "source": [
    "from langchain_community.vectorstores import Chroma\n",
    "from langchain_openai import OpenAIEmbeddings\n",
    "\n",
    "vectorstore = Chroma.from_documents(\n",
    "    documents=transcript_splits,\n",
    "    collection_name=\"rag-chroma\",\n",
    "    embedding=OpenAIEmbeddings(api_key=os.environ.get(\"OpenAi_Key\")),\n",
    ")\n",
    "retriever = vectorstore.as_retriever()"
   ]
  },
  {
   "cell_type": "markdown",
   "metadata": {},
   "source": [
    "\n",
    "<div id=\"step1\" style=\"font-family: Arial, sans-serif; padding: 15px; background: linear-gradient(90deg, #f0e68c, #ffd700); color: #333; border: 2px solid #ffa500; border-radius: 8px; margin: 10px 0;\">\n",
    "    <h3 style=\"margin: 0;\">Step 3 : Vector DB and Embeddings</h3>\n",
    "</div>"
   ]
  },
  {
   "cell_type": "code",
   "execution_count": 43,
   "metadata": {},
   "outputs": [],
   "source": [
    "from langchain.tools.retriever import create_retriever_tool\n",
    "retriever_tool = create_retriever_tool(\n",
    "    retriever,\n",
    "    \"podcast_retrieve\",\n",
    "    \"includes information about the latest podcast between cristiano ronaldo with mr beast on ronaldo's channel\",\n",
    ")"
   ]
  },
  {
   "cell_type": "markdown",
   "metadata": {},
   "source": [
    "\n",
    "\n",
    "<div id=\"step1\" style=\"font-family: Arial, sans-serif; padding: 15px; background: linear-gradient(90deg, #f0e68c, #ffd700); color: #333; border: 2px solid #ffa500; border-radius: 8px; margin: 10px 0;\">\n",
    "    <h3 style=\"margin: 0;\">Step 4 : Adding Retreiver as a tool in our tools that we are going to use</h3>\n",
    "</div>"
   ]
  },
  {
   "cell_type": "code",
   "execution_count": 44,
   "metadata": {},
   "outputs": [],
   "source": [
    "from langgraph.checkpoint.memory import MemorySaver\n",
    "from typing_extensions import TypedDict\n",
    "from langchain_openai import ChatOpenAI\n",
    "from langgraph.graph import StateGraph, START, END\n",
    "from langgraph.graph.message import add_messages\n",
    "from typing import Annotated\n",
    "from langgraph.prebuilt import ToolNode, tools_condition\n",
    "\n",
    "# Memory saver for state management\n",
    "memory = MemorySaver()\n",
    "\n",
    "# Define the state structure\n",
    "class State(TypedDict):\n",
    "    messages: Annotated[list, add_messages]\n",
    "    \n",
    "# Create the state graph\n",
    "graph_builder = StateGraph(State)\n",
    "\n",
    "# intialize llm we are going to use to be our chatbot\n",
    "llm = ChatOpenAI(model=\"gpt-4o\", api_key=os.environ.get(\"OpenAi_Key\"))\n",
    "# Adding tools to the list\n",
    "tools = [search_tool, evaluate_expression,retriever_tool]\n",
    "# Bind tools to the LLM\n",
    "llm_with_tools = llm.bind_tools(tools)\n",
    "\n",
    "# Define the chatbot function\n",
    "def chatbot(state: State):\n",
    "    return {\"messages\": [llm_with_tools.invoke(state[\"messages\"])]}\n",
    "\n",
    "graph_builder.add_node(\"chatbot\", chatbot)\n",
    "tools_node = ToolNode(tools)\n",
    "graph_builder.add_node(\"tools\", tools_node)\n",
    "\n",
    "# Define the edges in the graph\n",
    "graph_builder.add_edge(START, \"chatbot\")\n",
    "graph_builder.add_conditional_edges(\"chatbot\", tools_condition)\n",
    "graph_builder.add_edge(\"tools\", \"chatbot\")\n",
    "\n",
    "# Compile the graph\n",
    "graph = graph_builder.compile(checkpointer=memory)"
   ]
  },
  {
   "cell_type": "markdown",
   "metadata": {},
   "source": [
    "\n",
    "\n",
    "\n",
    "<div id=\"step1\" style=\"font-family: Arial, sans-serif; padding: 15px; background: linear-gradient(90deg, #f0e68c, #ffd700); color: #333; border: 2px solid #ffa500; border-radius: 8px; margin: 10px 0;\">\n",
    "    <h3 style=\"margin: 0;\">Step 5 : Testing Retrival</h3>\n",
    "</div>"
   ]
  },
  {
   "cell_type": "code",
   "execution_count": 45,
   "metadata": {},
   "outputs": [
    {
     "name": "stdout",
     "output_type": "stream",
     "text": [
      "Cristiano Ronaldo predicted that he would live until the age of 100 during a conversation with Mr. Beast.\n",
      "Goodbye!\n"
     ]
    }
   ],
   "source": [
    "while True:\n",
    "    try:\n",
    "        user_input = input(\"User: \")\n",
    "        if user_input.lower() in [\"quit\", \"exit\", \"q\"]:\n",
    "            print(\"Goodbye!\")\n",
    "            break\n",
    "        result = graph.invoke({\"messages\":[(\"user\",user_input)]},config)\n",
    "        print(result[\"messages\"][-1].content)    \n",
    "    except:\n",
    "        # fallback if input() is not available\n",
    "        user_input = \"What do you know about LangGraph?\"\n",
    "        print(\"user\" + user_input)\n",
    "        result = graph.invoke({\"messages\":[(\"user\",user_input)]},config)\n",
    "        print(result[\"messages\"][-1])\n",
    "        break"
   ]
  },
  {
   "cell_type": "markdown",
   "metadata": {},
   "source": [
    "\n",
    "\n",
    "<div id=\"introduction\" style=\"font-family: Arial, sans-serif; text-align: center; padding: 20px; background: linear-gradient(90deg, #6a5acd, #00bfff); color: white; position: relative; margin-bottom: 10px;\">\n",
    "    <h2 style=\"margin: 0;\">Part 6 : Lets Talk with our chatbot Adding Audio input/output (Runs Locally Only)</h2>\n",
    "\n",
    "</div>"
   ]
  },
  {
   "attachments": {
    "image-2.png": {
     "image/png": "[encoded data removed]"
    }
   },
   "cell_type": "markdown",
   "metadata": {},
   "source": [
    "![image-2.png](attachment:image-2.png)"
   ]
  },
  {
   "cell_type": "markdown",
   "metadata": {},
   "source": [
    "\n",
    "\n",
    "\n",
    "<div id=\"step1\" style=\"font-family: Arial, sans-serif; padding: 15px; background: linear-gradient(90deg, #f0e68c, #ffd700); color: #333; border: 2px solid #ffa500; border-radius: 8px; margin: 10px 0;\">\n",
    "    <h3 style=\"margin: 0;\">Step 1 : Creating Listening Node</h3>\n",
    "</div>"
   ]
  },
  {
   "cell_type": "code",
   "execution_count": 46,
   "metadata": {},
   "outputs": [],
   "source": [
    "import io\n",
    "import threading\n",
    "import numpy as np\n",
    "import sounddevice as sd\n",
    "from scipy.io.wavfile import write\n",
    "\n",
    "\n",
    "def record_audio_until_stop(state: State):\n",
    "\n",
    "    \"\"\"Records audio from the microphone until Enter is pressed, then saves it to a .wav file.\"\"\"\n",
    "    \n",
    "    audio_data = []  # List to store audio chunks\n",
    "    recording = True  # Flag to control recording\n",
    "    sample_rate = 16000 # (kHz) Adequate for human voice frequency\n",
    "\n",
    "    def record_audio():\n",
    "        \"\"\"Continuously records audio until the recording flag is set to False.\"\"\"\n",
    "        nonlocal audio_data, recording\n",
    "        with sd.InputStream(samplerate=sample_rate, channels=1, dtype='int16') as stream:\n",
    "            print(\"Recording your instruction! ... Press Enter to stop recording.\")\n",
    "            while recording:\n",
    "                audio_chunk, _ = stream.read(1024)  # Read audio data in chunks\n",
    "                audio_data.append(audio_chunk)\n",
    "\n",
    "    def stop_recording():\n",
    "        \"\"\"Waits for user input to stop the recording.\"\"\"\n",
    "        input()  # Wait for Enter key press\n",
    "        nonlocal recording\n",
    "        recording = False\n",
    "\n",
    "    # Start recording in a separate thread\n",
    "    recording_thread = threading.Thread(target=record_audio)\n",
    "    recording_thread.start()\n",
    "\n",
    "    # Start a thread to listen for the Enter key\n",
    "    stop_thread = threading.Thread(target=stop_recording)\n",
    "    stop_thread.start()\n",
    "\n",
    "    # Wait for both threads to complete\n",
    "    stop_thread.join()\n",
    "    recording_thread.join()\n",
    "\n",
    "    # Stack all audio chunks into a single NumPy array and write to file\n",
    "    audio_data = np.concatenate(audio_data, axis=0)\n",
    "    \n",
    "    # Convert to WAV format in-memory\n",
    "    audio_bytes = io.BytesIO()\n",
    "    write(audio_bytes, sample_rate, audio_data)  # Use scipy's write function to save to BytesIO\n",
    "    audio_bytes.seek(0)  # Go to the start of the BytesIO buffer\n",
    "    audio_bytes.name = \"audio.wav\" # Set a filename for the in-memory file\n",
    "\n",
    "    # Transcribe via Whisper\n",
    "    transcription = client.audio.transcriptions.create(\n",
    "       model=\"whisper-1\", \n",
    "       file=audio_bytes,\n",
    "       language=\"ar\"\n",
    "    )\n",
    "\n",
    "    # Print the transcription\n",
    "    print(\"Here is the transcription:\", transcription.text)\n",
    "\n",
    "    # Write to messages \n",
    "    return {\"messages\": [HumanMessage(content=transcription.text)]}"
   ]
  },
  {
   "cell_type": "markdown",
   "metadata": {},
   "source": [
    "\n",
    "\n",
    "<div id=\"step1\" style=\"font-family: Arial, sans-serif; padding: 15px; background: linear-gradient(90deg, #f0e68c, #ffd700); color: #333; border: 2px solid #ffa500; border-radius: 8px; margin: 10px 0;\">\n",
    "    <h3 style=\"margin: 0;\">Step 2 : Creating playing NodeStep 2 : Creating playing Node</h3>\n",
    "</div>"
   ]
  },
  {
   "cell_type": "code",
   "execution_count": null,
   "metadata": {},
   "outputs": [],
   "source": [
    "!pip install elevenlabs"
   ]
  },
  {
   "cell_type": "code",
   "execution_count": 48,
   "metadata": {},
   "outputs": [],
   "source": [
    "_set_env(\"ELEVENLABS_API_KEY\")"
   ]
  },
  {
   "cell_type": "code",
   "execution_count": 49,
   "metadata": {},
   "outputs": [],
   "source": [
    "from elevenlabs import play, VoiceSettings\n",
    "from elevenlabs.client import ElevenLabs\n",
    "\n",
    "elevenlabs_client = ElevenLabs(api_key=os.getenv(\"ELEVENLABS_API_KEY\"))\n",
    "\n",
    "def play_audio(state: State):\n",
    "    \n",
    "    \"\"\"Plays the audio response from the remote graph with ElevenLabs.\"\"\"\n",
    "\n",
    "    # Response from the agent \n",
    "    response = state['messages'][-1]\n",
    "\n",
    "    # Prepare text by replacing ** with empty strings\n",
    "    # These can cause unexpected behavior in ElevenLabs\n",
    "    cleaned_text = response.content.replace(\"**\", \"\")\n",
    "    \n",
    "\n",
    "    # Call text_to_speech API with turbo model for low latency\n",
    "    response = elevenlabs_client.text_to_speech.convert(\n",
    "        voice_id=\"pNInz6obpgDQGcFmaJgB\", # Adam pre-made voice\n",
    "        output_format=\"mp3_22050_32\",\n",
    "        text=cleaned_text,\n",
    "        model_id=\"eleven_turbo_v2_5\", \n",
    "        voice_settings=VoiceSettings(\n",
    "            stability=0.0,\n",
    "            similarity_boost=1.0,\n",
    "            style=0.0,\n",
    "            use_speaker_boost=True,\n",
    "        ),\n",
    "    )\n",
    "    \n",
    "    # Play the audio back\n",
    "    play(response)"
   ]
  },
  {
   "cell_type": "markdown",
   "metadata": {},
   "source": [
    "\n",
    "<div id=\"step1\" style=\"font-family: Arial, sans-serif; padding: 15px; background: linear-gradient(90deg, #f0e68c, #ffd700); color: #333; border: 2px solid #ffa500; border-radius: 8px; margin: 10px 0;\">\n",
    "    <h3 style=\"margin: 0;\">Step 3 : Adding it to our chatbot</h3>\n",
    "</div>"
   ]
  },
  {
   "cell_type": "code",
   "execution_count": 50,
   "metadata": {},
   "outputs": [],
   "source": [
    "from langgraph.checkpoint.memory import MemorySaver\n",
    "from typing_extensions import TypedDict\n",
    "from langchain_openai import ChatOpenAI\n",
    "from langgraph.graph import StateGraph, START, END\n",
    "from langgraph.graph.message import add_messages\n",
    "from typing import Annotated\n",
    "from langgraph.prebuilt import ToolNode, tools_condition # ------\n",
    "\n",
    "# Custom route now as we are not goint to end directly we need voice to go as an output first\n",
    "def route_tools(state: State):\n",
    "    \"\"\"\n",
    "    Use in the conditional_edge to route to the ToolNode if the last message\n",
    "    has tool calls. Otherwise, route to the end.\n",
    "    \"\"\"\n",
    "    if isinstance(state, list):\n",
    "        ai_message = state[-1]\n",
    "    elif messages := state.get(\"messages\", []):\n",
    "        ai_message = messages[-1]\n",
    "    else:\n",
    "        raise ValueError(f\"No messages found in input state to tool_edge: {state}\")\n",
    "    if hasattr(ai_message, \"tool_calls\") and len(ai_message.tool_calls) > 0:\n",
    "        return \"tools\"\n",
    "    return \"audio_output\"\n",
    "\n",
    "# Memory saver for state management\n",
    "memory = MemorySaver()\n",
    "\n",
    "# Define the state structure\n",
    "class State(TypedDict):\n",
    "    messages: Annotated[list, add_messages]\n",
    "    \n",
    "# Create the state graph\n",
    "graph_builder = StateGraph(State)\n",
    "\n",
    "# intialize llm we are going to use to be our chatbot\n",
    "llm = ChatOpenAI(model=\"gpt-4o\", api_key=os.environ.get(\"OpenAi_Key\"))\n",
    "# Adding tools to the list\n",
    "tools = [search_tool, evaluate_expression,retriever_tool]\n",
    "# Bind tools to the LLM\n",
    "llm_with_tools = llm.bind_tools(tools)\n",
    "\n",
    "# Define the chatbot function\n",
    "def chatbot(state: State):\n",
    "    return {\"messages\": [llm_with_tools.invoke(state[\"messages\"])]}\n",
    "\n",
    "graph_builder.add_node(\"audio_input\", record_audio_until_stop) # added new node\n",
    "graph_builder.add_node(\"chatbot\", chatbot)\n",
    "tools_node = ToolNode(tools)\n",
    "graph_builder.add_node(\"tools\", tools_node)\n",
    "graph_builder.add_node(\"audio_output\", play_audio)\n",
    "\n",
    "# Define the edges in the graph\n",
    "graph_builder.add_edge(START, \"audio_input\")\n",
    "graph_builder.add_edge(\"audio_input\", \"chatbot\")\n",
    "# ----\n",
    "graph_builder.add_conditional_edges(\"chatbot\", route_tools,{\"tools\": \"tools\", \"audio_output\": \"audio_output\"},)\n",
    "graph_builder.add_edge(\"tools\", \"chatbot\")\n",
    "graph_builder.add_edge(\"audio_output\",END)\n",
    "\n",
    "# Compile the graph\n",
    "graph = graph_builder.compile(checkpointer=memory)"
   ]
  },
  {
   "cell_type": "markdown",
   "metadata": {},
   "source": [
    "\n",
    "\n",
    "<div id=\"step1\" style=\"font-family: Arial, sans-serif; padding: 15px; background: linear-gradient(90deg, #f0e68c, #ffd700); color: #333; border: 2px solid #ffa500; border-radius: 8px; margin: 10px 0;\">\n",
    "    <h3 style=\"margin: 0;\">Step 4 : Visualization to our chatbot</h3>\n",
    "</div>"
   ]
  },
  {
   "cell_type": "code",
   "execution_count": 51,
   "metadata": {},
   "outputs": [
    {
     "data": {
      "image/png": "[encoded data removed]",
      "text/plain": [
       "<IPython.core.display.Image object>"
      ]
     },
     "metadata": {},
     "output_type": "display_data"
    }
   ],
   "source": [
    "from IPython.display import Image, display\n",
    "\n",
    "try:\n",
    "    display(Image(graph.get_graph().draw_mermaid_png()))\n",
    "except Exception:\n",
    "    # This requires some extra dependencies and is optional\n",
    "    pass"
   ]
  },
  {
   "cell_type": "markdown",
   "metadata": {},
   "source": [
    "\n",
    "<div id=\"step1\" style=\"font-family: Arial, sans-serif; padding: 15px; background: linear-gradient(90deg, #f0e68c, #ffd700); color: #333; border: 2px solid #ffa500; border-radius: 8px; margin: 10px 0;\">\n",
    "    <h3 style=\"margin: 0;\">Step 5 : Testing our Chatbot</h3>\n",
    "</div>"
   ]
  },
  {
   "cell_type": "code",
   "execution_count": 52,
   "metadata": {},
   "outputs": [],
   "source": [
    "import uuid\n",
    "thread_id = str(uuid.uuid4())"
   ]
  },
  {
   "cell_type": "code",
   "execution_count": null,
   "metadata": {},
   "outputs": [
    {
     "name": "stdout",
     "output_type": "stream",
     "text": [
      "================================\u001b[1m Human Message \u001b[0m=================================\n",
      "\n",
      "Follow the user's instructions:\n",
      "Recording your instruction! ... Press Enter to stop recording.\n",
      "Here is the transcription: tell me about this song lyrics please\n",
      "================================\u001b[1m Human Message \u001b[0m=================================\n",
      "\n",
      "tell me about this song lyrics please\n",
      "==================================\u001b[1m Ai Message \u001b[0m==================================\n",
      "Tool Calls:\n",
      "  tavily_search_results_json (call_LzHL7c6KwMCJpliIUDQEgfTQ)\n",
      " Call ID: call_LzHL7c6KwMCJpliIUDQEgfTQ\n",
      "  Args:\n",
      "    query: Man's Not Hot lyrics\n",
      "=================================\u001b[1m Tool Message \u001b[0m=================================\n",
      "Name: tavily_search_results_json\n",
      "\n",
      "[{\"url\": \"https://www.youtube.com/watch?v=2PjNsPMKqSA\", \"content\": \"Big Shaq - Man's Not Hot Lyrics\"}, {\"url\": \"https://genius.com/Big-shaq-mans-not-hot-mc-mix-lyrics\", \"content\": \"[Chorus: Big Shaq] I tell her man's not hot (never hot) I tell her man's not hot (never hot) The girl told me, \\\"Take off your jacket\\\" I said, \\\"Babes, man's not hot\\\" (never hot) [Verse 3: Chip\"}]\n",
      "==================================\u001b[1m Ai Message \u001b[0m==================================\n",
      "\n",
      "The lyrics of \"Man's Not Hot\" by Big Shaq humorously depict a situation where Big Shaq insists that he is \"not hot,\" no matter the circumstances. The song is known for its catchy chorus and comedic lines, such as being asked to take off his jacket and responding with \"Man's not hot.\" The lyrics play on various British slang terms and include a blend of comedic elements and rap music. You can view the full lyrics on platforms like [Genius](https://genius.com/Big-shaq-mans-not-hot-mc-mix-lyrics) or watch the song on [YouTube](https://www.youtube.com/watch?v=2PjNsPMKqSA).\n"
     ]
    }
   ],
   "source": [
    "# Set user ID for storing memories\n",
    "config = {\"configurable\": {\"user_id\": \"Test-Audio-UX\", \"thread_id\": thread_id}}\n",
    "# Kick off the graph, which will record user input until the user presses Enter\n",
    "for chunk in graph.stream({\"messages\":HumanMessage(content=\"Follow the user's instructions:\")}, stream_mode=\"values\", config=config):\n",
    "    chunk[\"messages\"][-1].pretty_print()"
   ]
  },
  {
   "cell_type": "markdown",
   "metadata": {},
   "source": [
    "\n",
    "### Part 7 : Coming Soon (Vision RAG)\n",
    "\n",
    "<img src='Colpali.jpg'>"
   ]
  }
 ],
 "metadata": {
  "kernelspec": {
   "display_name": "langGraph_test",
   "language": "python",
   "name": "python3"
  },
  "language_info": {
   "codemirror_mode": {
    "name": "ipython",
    "version": 3
   },
   "file_extension": ".py",
   "mimetype": "text/x-python",
   "name": "python",
   "nbconvert_exporter": "python",
   "pygments_lexer": "ipython3",
   "version": "3.10.15"
  }
 },
 "nbformat": 4,
 "nbformat_minor": 2
}
