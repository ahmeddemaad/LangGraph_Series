{
 "cells": [
  {
   "cell_type": "markdown",
   "metadata": {},
   "source": [
    "# **Sub-Graphs in LangGraph**\n",
    "\n",
    "In **LangGraph**, sub-graphs provide a powerful way to manage complex workflows by breaking them into smaller, modular components. Instead of dealing with a single, large graph containing numerous nodes and multiple routes, sub-graphs allow you to organize your logic in a cleaner and more maintainable structure.\n",
    "\n",
    "## **Why Use Sub-Graphs?**\n",
    "\n",
    "- **Modularity**: Simplifies the design by splitting the graph into smaller, reusable components.\n",
    "- **Parallel Execution**: Allows for executing multiple sub-graphs simultaneously when their tasks are independent.\n",
    "- **Conditional Traversal**: Enables dynamic navigation between sub-graphs based on specific conditions.\n",
    "\n",
    "## **How Sub-Graphs Work**\n",
    "\n",
    "1. **Definition**:\n",
    "   - Each sub-graph is a smaller graph with its own nodes, edges, and logic.\n",
    "   - Sub-graphs can handle isolated tasks or workflows.\n",
    "\n",
    "2. **Integration**:\n",
    "   - Sub-graphs can be embedded in a parent graph.\n",
    "   - Data can flow between the parent graph and sub-graphs through shared states.\n",
    "\n",
    "3. **Execution Options**:\n",
    "   - **Parallel Execution**: Run multiple sub-graphs at the same time for independent workflows.\n",
    "   - **Conditional Edges**: Navigate through sub-graphs based on conditions or decision logic.\n",
    "\n",
    "## **Benefits of Sub-Graphs**\n",
    "\n",
    "- **Scalability**: Breaks down large, complex graphs into manageable units.\n",
    "- **Reusability**: Sub-graphs can be reused in different contexts or workflows.\n",
    "- **Flexibility**: Easily add, modify, or remove sub-graphs without affecting the entire graph.\n",
    "- **Efficiency**: Parallel execution improves performance for independent tasks.\n",
    "\n",
    "Sub-graphs make LangGraph workflows more structured and easier to debug while maintaining flexibility for complex applications.\n"
   ]
  },
  {
   "cell_type": "markdown",
   "metadata": {},
   "source": [
    "## **Types of Sub-Graphs**\n",
    "\n",
    "There are two main types of sub-graphs in LangGraph, based on how they interact with the parent graph:\n",
    "\n",
    "1. **Shared Schema Keys**:  \n",
    "   - The parent graph and sub-graph share at least one same schema keys (There is a common key between Parent State and sub_graph State).  \n",
    "   - In this case, you can directly add a node with the compiled sub-graph.  \n",
    "\n",
    "2. **Different Schemas**:  \n",
    "   - The parent graph and sub-graph have different schemas (There is no common key between Parent State and sub_graph State).  \n",
    "   - Here, you need to use a node function to invoke the sub-graph. This allows you to transform the state before or after calling the sub-graph, ensuring compatibility between the two schemas.\n"
   ]
  },
  {
   "cell_type": "markdown",
   "metadata": {},
   "source": [
    "## **1- Shared Schema Key**"
   ]
  },
  {
   "cell_type": "markdown",
   "metadata": {},
   "source": [
    "### Let's Build This simple Sub-Graph in main Graph\n"
   ]
  },
  {
   "cell_type": "markdown",
   "metadata": {},
   "source": [
    "<p align=\"center\">\n",
    "  <img src=\"image_1.png\" alt=\"Explain Graph\">\n",
    "</p>\n"
   ]
  },
  {
   "cell_type": "code",
   "execution_count": 1,
   "metadata": {},
   "outputs": [],
   "source": [
    "%%capture --no-stderr\n",
    "%pip install -U langgraph"
   ]
  },
  {
   "cell_type": "code",
   "execution_count": null,
   "metadata": {},
   "outputs": [],
   "source": [
    "from langgraph.graph import START, StateGraph,END\n",
    "from typing import TypedDict,List,Annotated\n",
    "import operator\n",
    "\n",
    "\n",
    "# Define subgraph\n",
    "class SubgraphState(TypedDict):\n",
    "    parent_key: str  # note that this key is shared with the parent graph state (anything will be added here will automatically be added in same key at parent state)\n",
    "    sub_graph_messages: Annotated[List[str], operator.add] # accumalting our messages here\n",
    "\n",
    "# node 1 inside sub-graph\n",
    "def subgraph_node_1(state: SubgraphState):\n",
    "    print(\"state at subgraph_node_1\",state)\n",
    "    return {\"sub_graph_messages\": [\"Node 1 in sub-graph\"]}\n",
    "\n",
    "# node 2 inside sub-graph\n",
    "def subgraph_node_2(state: SubgraphState):\n",
    "    # parent_key is updated with data to be shared with parent_key\n",
    "    print(\"state at subgraph_node_2\",state)\n",
    "    return {\"sub_graph_messages\": [\"Node 2 in sub-graph\"]}\n",
    "\n",
    "# node 3 inside sub-graph\n",
    "def subgraph_node_3(state: SubgraphState):\n",
    "    # parent_key is updated before leaving graph (automatically would update parent_key in orginal parent state)\n",
    "    print(\"state at subgraph_node_3 we update parent before leaving graph only\",state)\n",
    "    # parent_key is considered global here in our overall graph thus it would include data acummlated in parent graph before entering sub-graph\n",
    "    print(\"parent_key before adding anything : \",state[\"parent_key\"] )\n",
    "    return {\"parent_key\": state[\"parent_key\"] + \",\"+ state[\"sub_graph_messages\"][0] +\",\"+ state[\"sub_graph_messages\"][1]}\n",
    "\n",
    "# lets build our sub-graph\n",
    "subgraph_builder = StateGraph(SubgraphState)\n",
    "subgraph_builder.add_node(subgraph_node_1)\n",
    "subgraph_builder.add_node(subgraph_node_2)\n",
    "subgraph_builder.add_node(subgraph_node_3)\n",
    "\n",
    "subgraph_builder.add_edge(START, \"subgraph_node_1\")\n",
    "subgraph_builder.add_edge(\"subgraph_node_1\", \"subgraph_node_2\")\n",
    "subgraph_builder.add_edge(\"subgraph_node_2\", \"subgraph_node_3\")\n",
    "subgraph_builder.add_edge(\"subgraph_node_3\", END)\n",
    "\n",
    "subgraph = subgraph_builder.compile()\n",
    "\n",
    "# Let's build our parent graph\n",
    "class ParentState(TypedDict):\n",
    "    parent_key: str\n",
    "\n",
    "\n",
    "def node_1(state: ParentState):\n",
    "    return {\"parent_key\": state[\"parent_key\"]}\n",
    "\n",
    "builder = StateGraph(ParentState)\n",
    "builder.add_node(\"node_1\", node_1)\n",
    "# note that we're adding the compiled subgraph as a node to the parent graph\n",
    "builder.add_node(\"node_2\", subgraph)\n",
    "\n",
    "builder.add_edge(START, \"node_1\")\n",
    "builder.add_edge(\"node_1\", \"node_2\")\n",
    "builder.add_edge(\"node_2\", END)\n",
    "\n",
    "graph = builder.compile()"
   ]
  },
  {
   "cell_type": "code",
   "execution_count": 3,
   "metadata": {},
   "outputs": [
    {
     "name": "stdout",
     "output_type": "stream",
     "text": [
      "state at subgraph_node_1 {'parent_key': 'Here We Go !', 'sub_graph_messages': []}\n",
      "state at subgraph_node_2 {'parent_key': 'Here We Go !', 'sub_graph_messages': ['Node 1 in sub-graph']}\n",
      "state at subgraph_node_3 we update parent before leaving graph only {'parent_key': 'Here We Go !', 'sub_graph_messages': ['Node 1 in sub-graph', 'Node 2 in sub-graph']}\n",
      "parent_key before adding anything Here We Go !\n"
     ]
    }
   ],
   "source": [
    "input_state = {\"parent_key\": \"Here We Go !\"}\n",
    "output = graph.invoke(input_state)"
   ]
  },
  {
   "cell_type": "code",
   "execution_count": 4,
   "metadata": {},
   "outputs": [
    {
     "data": {
      "text/plain": [
       "{'parent_key': 'Here We Go !,Node 1 in sub-graph,Node 2 in sub-graph'}"
      ]
     },
     "execution_count": 4,
     "metadata": {},
     "output_type": "execute_result"
    }
   ],
   "source": [
    "# After updating parent_key / we notice there is no sub_graph_messages\n",
    "output"
   ]
  },
  {
   "cell_type": "markdown",
   "metadata": {},
   "source": [
    "#### Conclusion\n",
    "- Parent Key here is considered a Global key among our states that we have built\n",
    "- Notice we didn't invoke our sub-graph we just added it as a node"
   ]
  },
  {
   "cell_type": "markdown",
   "metadata": {},
   "source": [
    "### Let's Build This Advanced Sub-Graph in main Graph\n"
   ]
  },
  {
   "cell_type": "markdown",
   "metadata": {},
   "source": [
    "<p align=\"center\">\n",
    "  <img src=\"image_2.png\" alt=\"Explain Graph\">\n",
    "</p>\n"
   ]
  },
  {
   "cell_type": "markdown",
   "metadata": {},
   "source": [
    "**Note** what is being shared or in other words Global here is sub_graph_1_messages and sub_graph_2_messages not parent_key also we are going to pass through both sub graph 1 and sub graph 2 at the same time (in parallel)"
   ]
  },
  {
   "cell_type": "markdown",
   "metadata": {},
   "source": [
    "#### **First Sub-Graph**"
   ]
  },
  {
   "cell_type": "code",
   "execution_count": 5,
   "metadata": {},
   "outputs": [],
   "source": [
    "from langgraph.graph import START, StateGraph,END\n",
    "from typing import TypedDict,List,Annotated\n",
    "import operator\n",
    "\n",
    "\n",
    "# Define subgraph\n",
    "class SubgraphState_1(TypedDict):\n",
    "    sub_graph_1_messages: Annotated[List[str], operator.add]\n",
    "\n",
    "# node 1 inside sub-graph\n",
    "def subgraph_node_1(state: SubgraphState_1):\n",
    "    print(\"state at subgraph_node_1\",state)\n",
    "    return {\"sub_graph_1_messages\": [\"Node 1 in sub-graph 1\"]}\n",
    "\n",
    "# node 2 inside sub-graph\n",
    "def subgraph_node_2(state: SubgraphState_1):\n",
    "    # parent_key is updated with data to be shared with parent_key\n",
    "    print(\"state at subgraph_node_2\",state)\n",
    "    return {\"sub_graph_1_messages\": [\"Node 2 in sub-graph 1\"]}\n",
    "\n",
    "\n",
    "subgraph_builder = StateGraph(SubgraphState_1)\n",
    "subgraph_builder.add_node(\"subgraph_1_node_1\",subgraph_node_1)\n",
    "subgraph_builder.add_node(\"subgraph_1_node_2\",subgraph_node_2)\n",
    "\n",
    "subgraph_builder.add_edge(START, \"subgraph_1_node_1\")\n",
    "subgraph_builder.add_edge(\"subgraph_1_node_1\", \"subgraph_1_node_2\")\n",
    "subgraph_builder.add_edge(\"subgraph_1_node_2\", END)\n",
    "\n",
    "subgraph_1= subgraph_builder.compile()"
   ]
  },
  {
   "cell_type": "markdown",
   "metadata": {},
   "source": [
    "#### **Sec. Sub-Graph**"
   ]
  },
  {
   "cell_type": "code",
   "execution_count": 6,
   "metadata": {},
   "outputs": [],
   "source": [
    "# Define subgraph\n",
    "class SubgraphState_2(TypedDict):\n",
    "    sub_graph_2_messages: Annotated[List[str], operator.add]\n",
    "\n",
    "# node 1 inside sub-graph\n",
    "def subgraph_node_1(state: SubgraphState_2):\n",
    "    print(\"state at subgraph_node_1\",state)\n",
    "    return {\"sub_graph_2_messages\": [\"Node 1 in sub-graph 2\"]}\n",
    "\n",
    "# node 2 inside sub-graph\n",
    "def subgraph_node_2(state: SubgraphState_2):\n",
    "    # parent_key is updated with data to be shared with parent_key\n",
    "    print(\"state at subgraph_node_2\",state)\n",
    "    return {\"sub_graph_2_messages\": [\"Node 2 in sub-graph 2\"]}\n",
    "\n",
    "\n",
    "subgraph_builder = StateGraph(SubgraphState_2)\n",
    "subgraph_builder.add_node(\"subgraph_2_node_1\",subgraph_node_1)\n",
    "subgraph_builder.add_node(\"subgraph_2_node_2\",subgraph_node_2)\n",
    "\n",
    "subgraph_builder.add_edge(START, \"subgraph_2_node_1\")\n",
    "subgraph_builder.add_edge(\"subgraph_2_node_1\", \"subgraph_2_node_2\")\n",
    "subgraph_builder.add_edge(\"subgraph_2_node_2\", END)\n",
    "\n",
    "\n",
    "subgraph_2 = subgraph_builder.compile()"
   ]
  },
  {
   "cell_type": "code",
   "execution_count": 7,
   "metadata": {},
   "outputs": [],
   "source": [
    "# Define parent graph\n",
    "class ParentState(TypedDict):\n",
    "    parent_key: str\n",
    "    sub_graph_1_messages: Annotated[List[str], operator.add]\n",
    "    sub_graph_2_messages: Annotated[List[str], operator.add]\n",
    "\n",
    "\n",
    "def node_1(state: ParentState):\n",
    "    return {\"parent_key\": state[\"parent_key\"]}\n",
    "\n",
    "\n",
    "builder = StateGraph(ParentState)\n",
    "builder.add_node(\"node_1\", node_1)\n",
    "# note that we're adding the compiled subgraph as a node to the parent graph\n",
    "builder.add_node(\"node_2\", subgraph_1)\n",
    "builder.add_node(\"node_3\", subgraph_2)\n",
    "\n",
    "builder.add_edge(START, \"node_1\")\n",
    "builder.add_edge(\"node_1\", \"node_2\")\n",
    "builder.add_edge(\"node_1\", \"node_3\")\n",
    "\n",
    "graph = builder.compile()"
   ]
  },
  {
   "cell_type": "code",
   "execution_count": 8,
   "metadata": {},
   "outputs": [
    {
     "name": "stdout",
     "output_type": "stream",
     "text": [
      "state at subgraph_node_1 {'sub_graph_1_messages': []}\n",
      "state at subgraph_node_2 {'sub_graph_1_messages': ['Node 1 in sub-graph 1']}\n",
      "state at subgraph_node_1 {'sub_graph_2_messages': []}\n",
      "state at subgraph_node_2 {'sub_graph_2_messages': ['Node 1 in sub-graph 2']}\n"
     ]
    }
   ],
   "source": [
    "input_state = {\"parent_key\": \"Here We Go !\"}\n",
    "# what's excuted first is returned first but they are excuted in parallel\n",
    "output = graph.invoke(input_state)"
   ]
  },
  {
   "cell_type": "code",
   "execution_count": 9,
   "metadata": {},
   "outputs": [
    {
     "data": {
      "text/plain": [
       "{'parent_key': 'Here We Go !',\n",
       " 'sub_graph_1_messages': ['Node 1 in sub-graph 1', 'Node 2 in sub-graph 1'],\n",
       " 'sub_graph_2_messages': ['Node 1 in sub-graph 2', 'Node 2 in sub-graph 2']}"
      ]
     },
     "execution_count": 9,
     "metadata": {},
     "output_type": "execute_result"
    }
   ],
   "source": [
    "output"
   ]
  },
  {
   "cell_type": "markdown",
   "metadata": {},
   "source": [
    "## **2- Different Schemas**"
   ]
  },
  {
   "cell_type": "markdown",
   "metadata": {},
   "source": [
    "<p align=\"center\">\n",
    "  <img src=\"Screenshot 2024-12-04 114330.png\" alt=\"Explain Graph\">\n",
    "</p>\n"
   ]
  },
  {
   "cell_type": "code",
   "execution_count": null,
   "metadata": {},
   "outputs": [],
   "source": [
    "from langgraph.graph import START, StateGraph\n",
    "from typing import TypedDict,List,Annotated\n",
    "import operator\n",
    "\n",
    " \n",
    "# Define subgraph\n",
    "class SubgraphState(TypedDict):\n",
    "    sub_graph_messages: Annotated[List[str], operator.add]\n",
    "\n",
    "# node 1 inside sub-graph\n",
    "def subgraph_node_1(state: SubgraphState):\n",
    "    print(\"state at subgraph_node_1\",state)\n",
    "    return {\"sub_graph_messages\": [\"Node 1 in sub-graph\"]}\n",
    "\n",
    "# node 2 inside sub-graph\n",
    "def subgraph_node_2(state: SubgraphState):\n",
    "    # parent_key is updated with data to be shared with parent_key\n",
    "    print(\"state at subgraph_node_2\",state)\n",
    "    return {\"sub_graph_messages\": [\"Node 2 in sub-graph\"]}\n",
    "\n",
    "\n",
    "subgraph_builder = StateGraph(SubgraphState)\n",
    "subgraph_builder.add_node(subgraph_node_1)\n",
    "subgraph_builder.add_node(subgraph_node_2)\n",
    "\n",
    "subgraph_builder.add_edge(START, \"subgraph_node_1\")\n",
    "subgraph_builder.add_edge(\"subgraph_node_1\", \"subgraph_node_2\")\n",
    "\n",
    "subgraph = subgraph_builder.compile()"
   ]
  },
  {
   "cell_type": "code",
   "execution_count": null,
   "metadata": {},
   "outputs": [],
   "source": [
    "# Define parent graph\n",
    "class ParentState(TypedDict):\n",
    "    message: Annotated[List[str], operator.add]\n",
    "\n",
    "def node_1(state: ParentState):\n",
    "    print(\"State including input only\" , state)\n",
    "    #  then we add here \n",
    "    return {\"message\": [state[\"message\"]]}\n",
    "\n",
    "# note instead of Adding Node direcly as we have done before in graph we invoke graph and take response and add it in message of parent state\n",
    "def node_2(state: ParentState):\n",
    "    print(\"State including Before invoking graph\" , state)\n",
    "    response = subgraph.invoke({\"sub_graph_messages\":[\"hello\"]})\n",
    "    return{\"message\":[response]}\n",
    "\n",
    "builder = StateGraph(ParentState)\n",
    "builder.add_node(\"node_1\", node_1)\n",
    "# note that we're adding the compiled subgraph as a node to the parent graph\n",
    "builder.add_node(\"node_2\", node_2)\n",
    "\n",
    "builder.add_edge(START, \"node_1\")\n",
    "builder.add_edge(\"node_1\", \"node_2\")\n",
    "graph = builder.compile()"
   ]
  },
  {
   "cell_type": "code",
   "execution_count": 37,
   "metadata": {},
   "outputs": [
    {
     "name": "stdout",
     "output_type": "stream",
     "text": [
      "State including input only {'message': ['Here We Go !']}\n",
      "State including Before invoking graph {'message': ['Here We Go !', ['Here We Go !']]}\n",
      "state at subgraph_node_1 {'sub_graph_messages': ['hello']}\n",
      "state at subgraph_node_2 {'sub_graph_messages': ['hello', 'Node 1 in sub-graph']}\n"
     ]
    }
   ],
   "source": [
    "input_state = {\"message\": [\"Here We Go !\"]}\n",
    "# what's excuted first is returned first but they are excuted in parallel\n",
    "output = graph.invoke(input_state)"
   ]
  },
  {
   "cell_type": "code",
   "execution_count": 38,
   "metadata": {},
   "outputs": [
    {
     "data": {
      "text/plain": [
       "{'message': ['Here We Go !',\n",
       "  ['Here We Go !'],\n",
       "  {'sub_graph_messages': ['hello',\n",
       "    'Node 1 in sub-graph',\n",
       "    'Node 2 in sub-graph']}]}"
      ]
     },
     "execution_count": 38,
     "metadata": {},
     "output_type": "execute_result"
    }
   ],
   "source": [
    "output"
   ]
  },
  {
   "cell_type": "markdown",
   "metadata": {},
   "source": [
    "#### Conclusion\n",
    "- we invoke our sub-graph in node 2 and we took response inorder not to be lost and we added it in our parent state"
   ]
  },
  {
   "cell_type": "markdown",
   "metadata": {},
   "source": []
  }
 ],
 "metadata": {
  "kernelspec": {
   "display_name": "lang_graph",
   "language": "python",
   "name": "python3"
  },
  "language_info": {
   "codemirror_mode": {
    "name": "ipython",
    "version": 3
   },
   "file_extension": ".py",
   "mimetype": "text/x-python",
   "name": "python",
   "nbconvert_exporter": "python",
   "pygments_lexer": "ipython3",
   "version": "3.12.7"
  }
 },
 "nbformat": 4,
 "nbformat_minor": 2
}
